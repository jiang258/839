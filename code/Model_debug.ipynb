{
 "cells": [
  {
   "cell_type": "code",
   "execution_count": 78,
   "metadata": {},
   "outputs": [],
   "source": [
    "import numpy as np\n",
    "import pandas as pd\n",
    "import json"
   ]
  },
  {
   "cell_type": "code",
   "execution_count": 79,
   "metadata": {},
   "outputs": [],
   "source": [
    "train_origin = pd.read_json('dict_train99.json', orient = \"records\")\n",
    "test_origin = pd.read_json('dict_test99.json', orient = \"records\")"
   ]
  },
  {
   "cell_type": "code",
   "execution_count": 80,
   "metadata": {},
   "outputs": [],
   "source": [
    "def get1(x):\n",
    "    if x[\"before\"] in honorifics:\n",
    "        return 1\n",
    "    else:\n",
    "        return 0"
   ]
  },
  {
   "cell_type": "code",
   "execution_count": 81,
   "metadata": {},
   "outputs": [],
   "source": [
    "def get2(x):\n",
    "    if x[\"sample\"].isupper() == True:\n",
    "        return 0\n",
    "    else:\n",
    "        return 1"
   ]
  },
  {
   "cell_type": "code",
   "execution_count": 82,
   "metadata": {},
   "outputs": [],
   "source": [
    "def get3(x):\n",
    "    if x[\"comma_before\"] == 1 and x[\"comma_after\"] == 1:\n",
    "        return 1\n",
    "    else:\n",
    "        return 0"
   ]
  },
  {
   "cell_type": "code",
   "execution_count": 83,
   "metadata": {},
   "outputs": [],
   "source": [
    "def get4(x):\n",
    "    if x[\"before\"] in[\"a\",\"an\",\"the\",\"The\"] or x[\"after\"] in ['a',\"a\",'the',\"The\"]:\n",
    "        return 0\n",
    "    else:\n",
    "        return 1"
   ]
  },
  {
   "cell_type": "code",
   "execution_count": 84,
   "metadata": {},
   "outputs": [],
   "source": [
    "def get5(x):\n",
    "    if x[\"before\"] in adjlist:\n",
    "        return 1\n",
    "    else:\n",
    "        return 0"
   ]
  },
  {
   "cell_type": "code",
   "execution_count": 85,
   "metadata": {},
   "outputs": [],
   "source": [
    "def get6(x):\n",
    "    if x[\"after\"] in adjlist:\n",
    "        return 1\n",
    "    else:\n",
    "        return 0"
   ]
  },
  {
   "cell_type": "code",
   "execution_count": 86,
   "metadata": {},
   "outputs": [],
   "source": [
    "def get7(x):\n",
    "    if x[\"before\"] in namelist:\n",
    "        return 1\n",
    "    else:\n",
    "        return 0 "
   ]
  },
  {
   "cell_type": "code",
   "execution_count": 87,
   "metadata": {},
   "outputs": [],
   "source": [
    "def get8(x):\n",
    "    if x[\"before\"] in tag:\n",
    "        return 1\n",
    "    else:\n",
    "        return 0"
   ]
  },
  {
   "cell_type": "code",
   "execution_count": 88,
   "metadata": {},
   "outputs": [],
   "source": [
    "def get9(x):\n",
    "    if x[\"after\"] == \"*\":\n",
    "        return 0\n",
    "    else:\n",
    "        return 1"
   ]
  },
  {
   "cell_type": "code",
   "execution_count": 89,
   "metadata": {},
   "outputs": [],
   "source": [
    "def get10(x):\n",
    "    if x['after'] in afterlist or x['before'] in afterlist:\n",
    "        return 1\n",
    "    else:\n",
    "        return 0"
   ]
  },
  {
   "cell_type": "code",
   "execution_count": 90,
   "metadata": {},
   "outputs": [],
   "source": [
    "def get11(x):\n",
    "    if x[\"after\"] in ['in','by','of','at',\"with\",'to',\"for\",\"from\"] or x[\"before\"] in ['in','by','of','at',\"with\",'to',\"for\",\"from\"] :\n",
    "        return 1\n",
    "    else:\n",
    "        return 0"
   ]
  },
  {
   "cell_type": "code",
   "execution_count": 91,
   "metadata": {},
   "outputs": [],
   "source": [
    "def get12(x):\n",
    "    if x['after'][-2:] ==\"ed\":\n",
    "        return 1\n",
    "    else:\n",
    "        return 0"
   ]
  },
  {
   "cell_type": "code",
   "execution_count": 92,
   "metadata": {},
   "outputs": [],
   "source": [
    "def get13(x):\n",
    "    if x['before'][-2:] ==\"ed\":\n",
    "        return 1\n",
    "    else:\n",
    "        return 0"
   ]
  },
  {
   "cell_type": "code",
   "execution_count": 93,
   "metadata": {},
   "outputs": [],
   "source": [
    "def get14(x):\n",
    "    return len(x['sample'])"
   ]
  },
  {
   "cell_type": "code",
   "execution_count": 94,
   "metadata": {},
   "outputs": [],
   "source": [
    "def get15(x):\n",
    "    if x['sample'][0].isupper() == True:\n",
    "        return 1\n",
    "    else: \n",
    "        return 0"
   ]
  },
  {
   "cell_type": "code",
   "execution_count": 95,
   "metadata": {},
   "outputs": [],
   "source": [
    "def get16(x):\n",
    "    if x['after'] == \"s\":\n",
    "        return 1\n",
    "    else:\n",
    "        return 0"
   ]
  },
  {
   "cell_type": "code",
   "execution_count": 96,
   "metadata": {},
   "outputs": [],
   "source": [
    "def get17(x):\n",
    "    if x[\"before\"] == \"*\":\n",
    "        return 1\n",
    "    else:\n",
    "        return 0"
   ]
  },
  {
   "cell_type": "code",
   "execution_count": 97,
   "metadata": {},
   "outputs": [],
   "source": [
    "afterlist = ['who','and',\"had\"]"
   ]
  },
  {
   "cell_type": "code",
   "execution_count": 98,
   "metadata": {},
   "outputs": [],
   "source": [
    "adjlist = [\"poor\",\"cute\",\"old\",\"dear\",\"little\",\"young\"]"
   ]
  },
  {
   "cell_type": "code",
   "execution_count": 99,
   "metadata": {},
   "outputs": [],
   "source": [
    "namelist = [\"siter\",\"brother\",\"daughter\",\"son\",\"aunt\",\"uncle\",\"boy\",\"girl\",\"wife\",\"husband\"]"
   ]
  },
  {
   "cell_type": "code",
   "execution_count": 100,
   "metadata": {},
   "outputs": [],
   "source": [
    "honorifics = [\"Mater\",\"Mr\",\"Miss\",\"Mrs\",\"Ms\",\"Sir\",\"Mistress\",\"Madam\",\"Lord\",\"Dr\",\"Professor\",\"professor\",\"Principal\",\"President\",\"Director\",\"you\"]"
   ]
  },
  {
   "cell_type": "code",
   "execution_count": 101,
   "metadata": {},
   "outputs": [],
   "source": [
    "tag = [\"said\",\"named\",\"called\",\"asked\",\"became\"]"
   ]
  },
  {
   "cell_type": "code",
   "execution_count": 102,
   "metadata": {},
   "outputs": [],
   "source": [
    "x1 = train_origin.apply(get1,axis = 1)\n",
    "x2 = train_origin.apply(get2,axis = 1)\n",
    "x3 = train_origin.apply(get3,axis = 1)\n",
    "x4 = train_origin.apply(get4,axis = 1)\n",
    "x5 = train_origin.apply(get5,axis = 1)\n",
    "x6 = train_origin.apply(get6,axis = 1)\n",
    "x7 = train_origin.apply(get7,axis = 1)\n",
    "x8 = train_origin.apply(get8,axis = 1)\n",
    "x9 = train_origin.apply(get9,axis = 1)\n",
    "x10 = train_origin.apply(get10,axis = 1)\n",
    "x11 = train_origin.apply(get11,axis = 1)\n",
    "x12 = train_origin.apply(get12,axis = 1)\n",
    "x13 = train_origin.apply(get13,axis = 1)\n",
    "x14 = train_origin.apply(get14,axis = 1)\n",
    "x15 = train_origin.apply(get15,axis = 1)\n",
    "x16 = train_origin.apply(get16,axis = 1)\n",
    "x17 = train_origin.apply(get17,axis = 1)"
   ]
  },
  {
   "cell_type": "code",
   "execution_count": 103,
   "metadata": {},
   "outputs": [],
   "source": [
    "b1 = test_origin.apply(get1,axis = 1)\n",
    "b2 = test_origin.apply(get2,axis = 1)\n",
    "b3 = test_origin.apply(get3,axis = 1)\n",
    "b4 = test_origin.apply(get4,axis = 1)\n",
    "b5 = test_origin.apply(get5,axis = 1)\n",
    "b6 = test_origin.apply(get6,axis = 1)\n",
    "b7 = test_origin.apply(get7,axis = 1)\n",
    "b8 = test_origin.apply(get8,axis = 1)\n",
    "b9 = test_origin.apply(get9,axis = 1)\n",
    "b10 = test_origin.apply(get10,axis = 1)\n",
    "b11 = test_origin.apply(get11,axis = 1)\n",
    "b12 = test_origin.apply(get12,axis = 1)\n",
    "b13 = test_origin.apply(get13,axis = 1)\n",
    "b14 = test_origin.apply(get14,axis = 1)\n",
    "b15 = test_origin.apply(get15,axis = 1)\n",
    "b16 = test_origin.apply(get16,axis = 1)\n",
    "b17 = test_origin.apply(get17,axis = 1)"
   ]
  },
  {
   "cell_type": "code",
   "execution_count": 104,
   "metadata": {},
   "outputs": [],
   "source": [
    "d = {'X1':x1,'X2':x2,'X3':x3,'X4':x4,'X5':x5, 'X6':x6, 'X7':x7, 'X8':x8,'X9':x9,'X10':x10,'X11':x11,'X12':x12,\"X13\":x13,'X14':x14,'X15':x15,'X16':x16,'X17':x17}"
   ]
  },
  {
   "cell_type": "code",
   "execution_count": 105,
   "metadata": {},
   "outputs": [],
   "source": [
    "m = {'X1':b1,'X2':b2,'X3':b3,'X4':b4,'X5':b5, 'X6':b6, 'X7':b7, 'X8':b8,'X9':b9,'X10':b10,'X11':b11,'X12':b12,'X13':b13,'X14':b14,'X15':b15,'X16':b16,'X17':b17}"
   ]
  },
  {
   "cell_type": "code",
   "execution_count": 106,
   "metadata": {},
   "outputs": [],
   "source": [
    "from imblearn.over_sampling import SMOTE"
   ]
  },
  {
   "cell_type": "code",
   "execution_count": 107,
   "metadata": {},
   "outputs": [],
   "source": [
    "X = pd.DataFrame(d)\n",
    "y = train_origin[\"y\"]"
   ]
  },
  {
   "cell_type": "code",
   "execution_count": 108,
   "metadata": {},
   "outputs": [],
   "source": [
    "X1 = pd.DataFrame(m)\n",
    "y1 = test_origin[\"y\"]\n",
    "smo = SMOTE(random_state=42)\n",
    "X1_smo, y1_smo = smo.fit_sample(X1, y1)"
   ]
  },
  {
   "cell_type": "code",
   "execution_count": 109,
   "metadata": {},
   "outputs": [],
   "source": [
    "from sklearn.model_selection import train_test_split\n",
    "X_train,X_test,y_train,y_test = train_test_split(X,y,test_size=0.1, random_state=123)"
   ]
  },
  {
   "cell_type": "code",
   "execution_count": 110,
   "metadata": {
    "scrolled": false
   },
   "outputs": [],
   "source": [
    "from sklearn.tree import DecisionTreeClassifier\n",
    "from sklearn.svm import SVC\n",
    "from sklearn.neural_network import MLPClassifier\n",
    "from sklearn.ensemble import RandomForestClassifier\n",
    "from sklearn.linear_model import LinearRegression,LogisticRegression\n",
    "from sklearn.metrics import classification_report\n",
    "from sklearn.model_selection import cross_val_predict"
   ]
  },
  {
   "cell_type": "code",
   "execution_count": 111,
   "metadata": {
    "scrolled": true
   },
   "outputs": [
    {
     "name": "stdout",
     "output_type": "stream",
     "text": [
      "Logistic\n",
      "             precision    recall  f1-score   support\n",
      "\n",
      "   negative       0.85      0.96      0.90      3504\n",
      "   positive       0.68      0.35      0.46       904\n",
      "\n",
      "avg / total       0.81      0.83      0.81      4408\n",
      "\n",
      "Decision Tree\n",
      "             precision    recall  f1-score   support\n",
      "\n",
      "   negative       0.86      0.96      0.90      3504\n",
      "   positive       0.69      0.38      0.49       904\n",
      "\n",
      "avg / total       0.82      0.84      0.82      4408\n",
      "\n",
      "Random Forest\n",
      "             precision    recall  f1-score   support\n",
      "\n",
      "   negative       0.86      0.96      0.90      3504\n",
      "   positive       0.69      0.37      0.48       904\n",
      "\n",
      "avg / total       0.82      0.84      0.82      4408\n",
      "\n",
      "SVM\n",
      "             precision    recall  f1-score   support\n",
      "\n",
      "   negative       0.80      0.99      0.89      3504\n",
      "   positive       0.57      0.03      0.06       904\n",
      "\n",
      "avg / total       0.75      0.80      0.72      4408\n",
      "\n",
      "MLP\n",
      "             precision    recall  f1-score   support\n",
      "\n",
      "   negative       0.85      0.96      0.90      3504\n",
      "   positive       0.71      0.37      0.48       904\n",
      "\n",
      "avg / total       0.82      0.84      0.82      4408\n",
      "\n",
      "Linear Regression\n",
      "             precision    recall  f1-score   support\n",
      "\n",
      "   negative       0.86      0.96      0.91      3504\n",
      "   positive       0.70      0.39      0.50       904\n",
      "\n",
      "avg / total       0.83      0.84      0.82      4408\n",
      "\n"
     ]
    }
   ],
   "source": [
    "names = [\"Logistic\",\"Decision Tree\", \"Random Forest\",\"SVM\",\"MLP\"]\n",
    "\n",
    "classifiers = [\n",
    "    LogisticRegression(),\n",
    "    DecisionTreeClassifier(max_depth=10),\n",
    "    RandomForestClassifier(max_depth=10, n_estimators=15, max_features=2),\n",
    "    SVC(kernel=\"linear\", C=0.025),\n",
    "    MLPClassifier(alpha=1)\n",
    "    ]\n",
    "for name, clf in zip(names, classifiers):\n",
    "    print(name)\n",
    "    y_pred1 = cross_val_predict(clf,X,y, cv=5)\n",
    "    print(classification_report(y, y_pred1,target_names = ['negative','positive']))\n",
    "y_linear = cross_val_predict(clf,X,y, cv=5)\n",
    "def trans(x):\n",
    "    if x >0.5 :\n",
    "        return 1\n",
    "    else:\n",
    "        return 0 \n",
    "y_pred1 = list(map(trans,y_linear))\n",
    "print(\"Linear Regression\")\n",
    "print(classification_report(y, y_pred1,target_names = ['negative','positive']))"
   ]
  },
  {
   "cell_type": "markdown",
   "metadata": {},
   "source": [
    "## Debug"
   ]
  },
  {
   "cell_type": "code",
   "execution_count": 112,
   "metadata": {},
   "outputs": [],
   "source": [
    "d = {'X1':x1,'X2':x2,'X3':x3,'X4':x4,'X5':x5, 'X6':x6, 'X7':x7, 'X8':x8,'X9':x9,'X10':x10,'X11':x11,'X12':x12,\"X13\":x13,'X14':x14,'X15':x15,'X16':x16,'X17':x17}"
   ]
  },
  {
   "cell_type": "code",
   "execution_count": 113,
   "metadata": {},
   "outputs": [],
   "source": [
    "m = {'X1':b1,'X2':b2,'X3':b3,'X4':b4,'X5':b5, 'X6':b6, 'X7':b7, 'X8':b8,'X9':b9,'X10':b10,'X11':b11,'X12':b12,'X13':b13,'X14':b14,'X15':b15,'X16':b16,'X17':b17}"
   ]
  },
  {
   "cell_type": "code",
   "execution_count": 114,
   "metadata": {},
   "outputs": [],
   "source": [
    "X = pd.DataFrame(d)\n",
    "y = train_origin[\"y\"]"
   ]
  },
  {
   "cell_type": "code",
   "execution_count": 115,
   "metadata": {},
   "outputs": [],
   "source": [
    "smo = SMOTE(random_state=42)\n",
    "X_smo, y_smo = smo.fit_sample(X, y)"
   ]
  },
  {
   "cell_type": "code",
   "execution_count": 116,
   "metadata": {},
   "outputs": [],
   "source": [
    "X1 = pd.DataFrame(m)\n",
    "y1 = test_origin[\"y\"]\n",
    "smo = SMOTE(random_state=42)\n",
    "X1_smo, y1_smo = smo.fit_sample(X1, y1)"
   ]
  },
  {
   "cell_type": "code",
   "execution_count": 117,
   "metadata": {},
   "outputs": [
    {
     "name": "stdout",
     "output_type": "stream",
     "text": [
      "Logistic\n",
      "             precision    recall  f1-score   support\n",
      "\n",
      "   negative       0.77      0.77      0.77      3504\n",
      "   positive       0.77      0.77      0.77      3504\n",
      "\n",
      "avg / total       0.77      0.77      0.77      7008\n",
      "\n",
      "Decision Tree\n",
      "             precision    recall  f1-score   support\n",
      "\n",
      "   negative       0.68      0.91      0.78      3504\n",
      "   positive       0.87      0.58      0.69      3504\n",
      "\n",
      "avg / total       0.78      0.75      0.74      7008\n",
      "\n",
      "Random Forest\n",
      "             precision    recall  f1-score   support\n",
      "\n",
      "   negative       0.70      0.92      0.79      3504\n",
      "   positive       0.88      0.61      0.72      3504\n",
      "\n",
      "avg / total       0.79      0.76      0.76      7008\n",
      "\n",
      "SVM\n",
      "             precision    recall  f1-score   support\n",
      "\n",
      "   negative       0.78      0.76      0.77      3504\n",
      "   positive       0.76      0.79      0.78      3504\n",
      "\n",
      "avg / total       0.77      0.77      0.77      7008\n",
      "\n",
      "MLP\n",
      "             precision    recall  f1-score   support\n",
      "\n",
      "   negative       0.86      0.70      0.77      3504\n",
      "   positive       0.75      0.88      0.81      3504\n",
      "\n",
      "avg / total       0.80      0.79      0.79      7008\n",
      "\n",
      "Linear Regression\n",
      "             precision    recall  f1-score   support\n",
      "\n",
      "   negative       0.85      0.71      0.77      3504\n",
      "   positive       0.75      0.88      0.81      3504\n",
      "\n",
      "avg / total       0.80      0.79      0.79      7008\n",
      "\n"
     ]
    }
   ],
   "source": [
    "names = [\"Logistic\",\"Decision Tree\", \"Random Forest\",\"SVM\",\"MLP\"]\n",
    "\n",
    "classifiers = [\n",
    "    LogisticRegression(),\n",
    "    DecisionTreeClassifier(max_depth=10,class_weight = {0:6,1:3}),\n",
    "    RandomForestClassifier(max_depth=10, n_estimators=15, max_features=2,class_weight = {0:6,1:3}),\n",
    "    SVC(kernel=\"linear\", C=0.025),\n",
    "    MLPClassifier(alpha=1)\n",
    "    \n",
    "    ]\n",
    "for name, clf in zip(names, classifiers):\n",
    "    print(name)\n",
    "    y_pred1 = cross_val_predict(clf,X_smo,y_smo, cv=5)\n",
    "    print(classification_report(y_smo, y_pred1,target_names = ['negative','positive']))\n",
    "y_linear = cross_val_predict(clf,X_smo,y_smo, cv=5)\n",
    "def trans(x):\n",
    "    if x >0.5 :\n",
    "        return 1\n",
    "    else:\n",
    "        return 0 \n",
    "y_pred1 = list(map(trans,y_linear))\n",
    "print(\"Linear Regression\")\n",
    "print(classification_report(y_smo, y_pred1,target_names = ['negative','positive']))"
   ]
  },
  {
   "cell_type": "code",
   "execution_count": 118,
   "metadata": {},
   "outputs": [],
   "source": [
    "D = pd.DataFrame({\"y\":y_smo,\"yp\":y_pred1})"
   ]
  },
  {
   "cell_type": "code",
   "execution_count": 119,
   "metadata": {},
   "outputs": [
    {
     "name": "stderr",
     "output_type": "stream",
     "text": [
      "D:\\anaconda\\lib\\site-packages\\ipykernel_launcher.py:1: UserWarning: Boolean Series key will be reindexed to match DataFrame index.\n",
      "  \"\"\"Entry point for launching an IPython kernel.\n"
     ]
    },
    {
     "data": {
      "text/plain": [
       "*               228\n",
       "of               70\n",
       "the              65\n",
       "in               61\n",
       "and              29\n",
       "to               23\n",
       "at               20\n",
       "from             19\n",
       "The              19\n",
       "New              14\n",
       "a                12\n",
       "as               12\n",
       "s                11\n",
       "that             10\n",
       "on                9\n",
       "his               8\n",
       "In                6\n",
       "for               5\n",
       "United            5\n",
       "with              4\n",
       "contemporary      4\n",
       "first             4\n",
       "Anglo             4\n",
       "last              4\n",
       "modern            3\n",
       "That              3\n",
       "said              3\n",
       "your              3\n",
       "great             3\n",
       "A                 3\n",
       "               ... \n",
       "poems             1\n",
       "maybe             1\n",
       "all               1\n",
       "Skylight          1\n",
       "University        1\n",
       "truly             1\n",
       "appointed         1\n",
       "huge              1\n",
       "At                1\n",
       "inveterately      1\n",
       "cold              1\n",
       "Grub              1\n",
       "proofed           1\n",
       "John              1\n",
       "says              1\n",
       "since             1\n",
       "Dickson           1\n",
       "established       1\n",
       "General           1\n",
       "High              1\n",
       "mild              1\n",
       "before            1\n",
       "struck            1\n",
       "Jewish            1\n",
       "teacher           1\n",
       "infuriated        1\n",
       "hot               1\n",
       "crowded           1\n",
       "is                1\n",
       "regarded          1\n",
       "Name: before, Length: 316, dtype: int64"
      ]
     },
     "execution_count": 119,
     "metadata": {},
     "output_type": "execute_result"
    }
   ],
   "source": [
    "train_origin[D[\"y\"]-D[\"yp\"] == -1][\"before\"].value_counts()"
   ]
  },
  {
   "cell_type": "code",
   "execution_count": 120,
   "metadata": {},
   "outputs": [
    {
     "name": "stderr",
     "output_type": "stream",
     "text": [
      "D:\\anaconda\\lib\\site-packages\\ipykernel_launcher.py:1: UserWarning: Boolean Series key will be reindexed to match DataFrame index.\n",
      "  \"\"\"Entry point for launching an IPython kernel.\n"
     ]
    },
    {
     "data": {
      "text/plain": [
       "*                 110\n",
       "and                55\n",
       "in                 37\n",
       "s                  32\n",
       "of                 28\n",
       "is                 23\n",
       "he                 22\n",
       "as                 13\n",
       "who                10\n",
       "that               10\n",
       "to                 10\n",
       "were               10\n",
       "had                 9\n",
       "or                  8\n",
       "was                 8\n",
       "by                  7\n",
       "has                 7\n",
       "I                   7\n",
       "it                  7\n",
       "one                 7\n",
       "there               7\n",
       "the                 7\n",
       "but                 6\n",
       "where               6\n",
       "for                 6\n",
       "a                   5\n",
       "we                  5\n",
       "family              5\n",
       "at                  5\n",
       "on                  5\n",
       "                 ... \n",
       "burglar             1\n",
       "countenances        1\n",
       "Wangaratta          1\n",
       "English             1\n",
       "served              1\n",
       "Illinois            1\n",
       "Guard               1\n",
       "County              1\n",
       "In                  1\n",
       "can                 1\n",
       "contemporaries      1\n",
       "clip                1\n",
       "Society             1\n",
       "broker              1\n",
       "Amour               1\n",
       "morning             1\n",
       "else                1\n",
       "wife                1\n",
       "Omega               1\n",
       "Close               1\n",
       "novelists           1\n",
       "language            1\n",
       "abandoned           1\n",
       "Communicant         1\n",
       "lived               1\n",
       "job                 1\n",
       "persuasion          1\n",
       "country             1\n",
       "Wordsworth          1\n",
       "face                1\n",
       "Name: after, Length: 421, dtype: int64"
      ]
     },
     "execution_count": 120,
     "metadata": {},
     "output_type": "execute_result"
    }
   ],
   "source": [
    "train_origin[D[\"y\"]-D[\"yp\"] == -1][\"after\"].value_counts()"
   ]
  },
  {
   "cell_type": "code",
   "execution_count": 144,
   "metadata": {
    "scrolled": true
   },
   "outputs": [
    {
     "name": "stdout",
     "output_type": "stream",
     "text": [
      "Random Forest\n",
      "             precision    recall  f1-score   support\n",
      "\n",
      "   negative       0.71      0.93      0.81      1961\n",
      "   positive       0.90      0.63      0.74      1961\n",
      "\n",
      "avg / total       0.80      0.78      0.77      3922\n",
      "\n"
     ]
    }
   ],
   "source": [
    "classifier = RandomForestClassifier(max_depth=10,n_estimators=15, max_features=2,class_weight = {0:6,1:3})\n",
    "model = classifier.fit(X_smo, y_smo)\n",
    "y_p = model.predict(X1_smo)\n",
    "print(\"Random Forest\")\n",
    "print(classification_report(y1_smo, y_p, target_names = ['negative','positive']))"
   ]
  },
  {
   "cell_type": "code",
   "execution_count": null,
   "metadata": {},
   "outputs": [],
   "source": []
  }
 ],
 "metadata": {
  "kernelspec": {
   "display_name": "Python 3",
   "language": "python",
   "name": "python3"
  },
  "language_info": {
   "codemirror_mode": {
    "name": "ipython",
    "version": 3
   },
   "file_extension": ".py",
   "mimetype": "text/x-python",
   "name": "python",
   "nbconvert_exporter": "python",
   "pygments_lexer": "ipython3",
   "version": "3.7.1"
  }
 },
 "nbformat": 4,
 "nbformat_minor": 2
}
