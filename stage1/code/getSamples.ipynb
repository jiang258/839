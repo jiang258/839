{
 "cells": [
  {
   "cell_type": "markdown",
   "metadata": {},
   "source": [
    "## Get positive and negative sample from the files labeled"
   ]
  },
  {
   "cell_type": "code",
   "execution_count": 1,
   "metadata": {},
   "outputs": [],
   "source": [
    "import random\n",
    "import curses.ascii as ca\n",
    "import re"
   ]
  },
  {
   "cell_type": "code",
   "execution_count": 2,
   "metadata": {},
   "outputs": [],
   "source": [
    "'''\n",
    "Split a text within tagged name.\n",
    "\n",
    "Input:\n",
    "text: a string within tagged name\n",
    "\n",
    "Output:\n",
    "list_text: a list of string with mentions\n",
    "'''\n",
    "def splitText(text):\n",
    "    list_text = list()\n",
    "    n = len(text)\n",
    "    i = 0\n",
    "    while i < n:\n",
    "        if text[i:(i+6)] == '<name>':\n",
    "            j = i+6\n",
    "            try:\n",
    "                while text[j:(j+7)] != '</name>':\n",
    "                    j += 1\n",
    "                list_text.append(text[i:(j+7)])\n",
    "                i = j+7\n",
    "            except:\n",
    "                print(\"Wrongly tagged!! Without closing tag\")\n",
    "                return\n",
    "        elif ca.ispunct(text[i]):\n",
    "            list_text.append(text[i])\n",
    "            i += 1\n",
    "        elif ca.isalnum(text[i]):\n",
    "            j = i + 1\n",
    "            while j<n and ca.isalnum(text[j]):\n",
    "                j += 1\n",
    "            list_text.append(text[i:j])\n",
    "            i = j\n",
    "        else:\n",
    "            i += 1\n",
    "    return(list_text)"
   ]
  },
  {
   "cell_type": "code",
   "execution_count": 3,
   "metadata": {},
   "outputs": [],
   "source": [
    "'''\n",
    "Figure out positive and negative samples we need from a list of strings\n",
    "\n",
    "Input:\n",
    "list_text: a list of string with mentions\n",
    "\n",
    "Output:\n",
    "samples: a list of dictionary containing the information around the samples\n",
    "'''\n",
    "def figureSample(list_text):\n",
    "    if type(list_text) is not list:\n",
    "        print(\"Please use a list of string as the parameter of function figureSample!!\")\n",
    "        return\n",
    "    n = len(list_text)\n",
    "    samples = list()\n",
    "    for i in range(n):\n",
    "        if re.search('<name>(.*)</name>', list_text[i]) is not None:\n",
    "            samples.append(findWordsAround(list_text, i, 1))\n",
    "        else:\n",
    "            if list_text[i].istitle():\n",
    "                samples.append(findWordsAround(list_text, i, 1))\n",
    "                if list_text[i+1].istitle():\n",
    "                    samples.append(findWordsAround(list_text, i, 2))\n",
    "                    if list_text[i+2].istitle():\n",
    "                        samples.append(findWordsAround(list_text, i, 3))\n",
    "    return(samples)\n",
    "     "
   ]
  },
  {
   "cell_type": "code",
   "execution_count": 4,
   "metadata": {},
   "outputs": [],
   "source": [
    "'''\n",
    "Return a dictionary contain the information around the words we select:\n",
    "\n",
    "Input:\n",
    "list_text:  a list of string with mentions\n",
    "index: begin index of the word\n",
    "length: length of the word\n",
    "\n",
    "Output:\n",
    "words: a dictionary containing the following information\n",
    "    sample: the word we select\n",
    "    before: the word before sample in this sentence. If no word before, get *\n",
    "    after: the word after sample in this sentence. If no word after, get *\n",
    "    comma_before: if there is a comma before sample. 1 yes 0 no\n",
    "    comma_before: if there is a comma after sample. 1 yes 0 no\n",
    "    y: 1 positive sample 0 negative sample\n",
    "'''\n",
    "\n",
    "def findWordsAround(list_text, index, length):\n",
    "    stop_punct = ['.', '!', '?']\n",
    "    prefix = ['Mr', 'Mrs', 'Miss', 'Dr', 'Prof', 'Ms']\n",
    "    words = {'sample': ' '.join(list_text[index:(index+length)]),'before':'*', 'after':'*', 'comma_before': 0,'comma_after': 0,  'y':0}\n",
    "    if re.match('<name>.*</name>', list_text[index]) is not None:\n",
    "        words['y'] = 1\n",
    "        words['sample'] = re.search('<name>(.*)</name>', list_text[index]).group(1)\n",
    "    if index > 0:\n",
    "        j = index-1\n",
    "        if list_text[j] == \",\":\n",
    "            words['comma_before'] = 1\n",
    "        if re.match('<name>.*</name>', list_text[j]) is None:\n",
    "            while j >= 0 and not list_text[j].isalnum() :\n",
    "                if list_text[j] in stop_punct:\n",
    "                    break\n",
    "                else:\n",
    "                    j -= 1\n",
    "            if j > 0 and list_text[j] not in stop_punct:\n",
    "                words['before'] = list_text[j]\n",
    "            elif list_text[j] == '.':\n",
    "                if list_text[j-1] in prefix:\n",
    "                    words['before'] = list_text[j-1]\n",
    "        else:\n",
    "            words['before'] = re.search('<name>(.*)</name>', list_text[j]).group(1)\n",
    "    if index+length < len(list_text)-1:\n",
    "        j = index+length\n",
    "        if list_text[j] == \",\":\n",
    "            words['comma_after'] = 1\n",
    "        if re.match('<name>.*</name>', list_text[j]) is None:\n",
    "            while j < len(list_text) and not list_text[j].isalnum():\n",
    "                if list_text[j] in stop_punct:\n",
    "                    break\n",
    "                else:\n",
    "                    j += 1\n",
    "            if j < len(list_text) and list_text[j] not in stop_punct:\n",
    "                words['after'] = list_text[j]\n",
    "        else:\n",
    "            words['after'] = re.search('<name>(.*)</name>', list_text[j]).group(1)\n",
    "    return(words)"
   ]
  },
  {
   "cell_type": "code",
   "execution_count": 5,
   "metadata": {},
   "outputs": [],
   "source": [
    "'''\n",
    "Get positive and negative samples from a list of file\n",
    "\n",
    "Input:\n",
    "file: a list of file name\n",
    "\n",
    "Output:\n",
    "samples: a list of dictionary containing samples\n",
    "'''\n",
    "def getSample(file):\n",
    "    if type(file) is not list:\n",
    "        print(\"Please enter a list!!\")\n",
    "        return\n",
    "    if len(file) == 0:\n",
    "        print(\"List is empty!\")\n",
    "        return\n",
    "    samples = list()\n",
    "    for i in file:\n",
    "        with open(i, 'r') as f:\n",
    "            text = f.readlines()\n",
    "            text = ' '.join(text)\n",
    "        list_text = splitText(text)\n",
    "        samples += figureSample(list_text)\n",
    "    return(samples)"
   ]
  },
  {
   "cell_type": "markdown",
   "metadata": {},
   "source": [
    "#### Randomly split the files into training and test set"
   ]
  },
  {
   "cell_type": "code",
   "execution_count": 6,
   "metadata": {},
   "outputs": [],
   "source": [
    "file = list()\n",
    "for i in range(1, 301):\n",
    "    file.append('../data/tagged/document (' + str(i) + ').txt')\n",
    "\n",
    "    \n",
    "#Randomly select training and test set file\n",
    "n = len(file)\n",
    "n_test = int(n/3)\n",
    "n_train = n-n_test\n",
    "random.seed(123)\n",
    "index_test = random.sample(range(n), n_test)\n",
    "index_train = [x for x in range(n) if x not in index_test]\n",
    "file_test = [file[x] for x in index_test]\n",
    "file_train = [file[x] for x in index_train]"
   ]
  },
  {
   "cell_type": "markdown",
   "metadata": {},
   "source": [
    "#### Save the names of test files into a text file"
   ]
  },
  {
   "cell_type": "code",
   "execution_count": 7,
   "metadata": {},
   "outputs": [],
   "source": [
    "with open('../data/file_test.txt', 'w') as f:\n",
    "    for i in file_test:\n",
    "        f.write(i[15:] + '\\n')"
   ]
  },
  {
   "cell_type": "markdown",
   "metadata": {},
   "source": [
    "#### Get positive and negative samples from test and training files"
   ]
  },
  {
   "cell_type": "code",
   "execution_count": 8,
   "metadata": {},
   "outputs": [],
   "source": [
    "dict_test = getSample(file_test)\n",
    "dict_train = getSample(file_train)"
   ]
  },
  {
   "cell_type": "markdown",
   "metadata": {},
   "source": [
    "#### Write samples into json files"
   ]
  },
  {
   "cell_type": "code",
   "execution_count": 9,
   "metadata": {},
   "outputs": [],
   "source": [
    "import json\n",
    "with open('../data/dict_test.json', 'w') as f:\n",
    "    json.dump(dict_test, f)\n",
    "with open('../data/dict_train.json', 'w') as f:\n",
    "    json.dump(dict_train, f)"
   ]
  },
  {
   "cell_type": "code",
   "execution_count": null,
   "metadata": {},
   "outputs": [],
   "source": []
  }
 ],
 "metadata": {
  "kernelspec": {
   "display_name": "Python 3",
   "language": "python",
   "name": "python3"
  },
  "language_info": {
   "codemirror_mode": {
    "name": "ipython",
    "version": 3
   },
   "file_extension": ".py",
   "mimetype": "text/x-python",
   "name": "python",
   "nbconvert_exporter": "python",
   "pygments_lexer": "ipython3",
   "version": "3.6.8"
  }
 },
 "nbformat": 4,
 "nbformat_minor": 2
}
